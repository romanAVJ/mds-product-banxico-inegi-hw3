{
 "cells": [
  {
   "cell_type": "markdown",
   "metadata": {},
   "source": [
    "# ELT Banxico & INEGI data to build Athena's database\n",
    "\n",
    "Using the `fx`, `tiie` and `inpc`, create a database in Athena to analyze the behavior of the Mexican economy.\n",
    "\n",
    "@roman avj\n",
    "\n",
    "18 mar 24"
   ]
  },
  {
   "cell_type": "markdown",
   "metadata": {},
   "source": [
    "---\n",
    "# Settings"
   ]
  },
  {
   "cell_type": "code",
   "execution_count": 6,
   "metadata": {},
   "outputs": [],
   "source": [
    "import os\n",
    "import boto3\n",
    "import awswrangler as wr\n",
    "import pandas as pd\n",
    "import yaml\n",
    "from dotenv import load_dotenv\n",
    "from datetime import datetime\n",
    "from tqdm import tqdm\n",
    "\n",
    "from INEGIpy import Indicadores\n",
    "from sie_banxico import SIEBanxico"
   ]
  },
  {
   "cell_type": "code",
   "execution_count": 3,
   "metadata": {},
   "outputs": [],
   "source": [
    "# load environment variables\n",
    "load_dotenv()\n",
    "\n",
    "# get config file\n",
    "with open('../config.yaml', 'r') as file:\n",
    "    config = yaml.safe_load(file)\n",
    "\n",
    "# today\n",
    "TODAY = datetime.today().strftime('%Y-%m-%d')"
   ]
  },
  {
   "cell_type": "code",
   "execution_count": 4,
   "metadata": {},
   "outputs": [],
   "source": [
    "# AWS Settings\n",
    "session = boto3.Session(profile_name=\"arquitectura\")\n",
    "s3 = session.client('s3')\n",
    "\n",
    "# Bucket\n",
    "BUCKET_NAME = config['aws']['bucket']\n",
    "\n",
    "# Sub Bucket\n",
    "SUB_BUCKET = config['aws']['sub-bucket']"
   ]
  },
  {
   "cell_type": "markdown",
   "metadata": {},
   "source": [
    "---\n",
    "# Extract"
   ]
  },
  {
   "cell_type": "code",
   "execution_count": 13,
   "metadata": {},
   "outputs": [
    {
     "name": "stderr",
     "output_type": "stream",
     "text": [
      "100%|██████████| 3/3 [00:01<00:00,  1.72it/s]\n"
     ]
    }
   ],
   "source": [
    "# read files from s3\n",
    "def read_from_s3(folder, filename):\n",
    "    df = wr.s3.read_csv(\n",
    "        path=f\"s3://{BUCKET_NAME}/{SUB_BUCKET}/{folder}/{filename}\",\n",
    "        boto3_session=session\n",
    "    )\n",
    "    # set date as datetime\n",
    "    df['date'] = pd.to_datetime(df['date'])\n",
    "\n",
    "    # set date as index\n",
    "    df = df.set_index('date')\n",
    "    return df\n",
    "\n",
    "# read files from s3\n",
    "dict_df = {}\n",
    "for key, value in tqdm(config['aws']['filenames'].items()):\n",
    "    dict_df[key] = read_from_s3('raw', value)"
   ]
  },
  {
   "cell_type": "markdown",
   "metadata": {},
   "source": [
    "---\n",
    "# Load"
   ]
  },
  {
   "cell_type": "markdown",
   "metadata": {},
   "source": [
    "(wip)"
   ]
  },
  {
   "cell_type": "code",
   "execution_count": null,
   "metadata": {},
   "outputs": [],
   "source": []
  },
  {
   "cell_type": "markdown",
   "metadata": {},
   "source": [
    "---\n",
    "# Transform"
   ]
  },
  {
   "cell_type": "markdown",
   "metadata": {},
   "source": [
    "## Monthly data"
   ]
  },
  {
   "cell_type": "code",
   "execution_count": null,
   "metadata": {},
   "outputs": [
    {
     "data": {
      "text/html": [
       "<div>\n",
       "<style scoped>\n",
       "    .dataframe tbody tr th:only-of-type {\n",
       "        vertical-align: middle;\n",
       "    }\n",
       "\n",
       "    .dataframe tbody tr th {\n",
       "        vertical-align: top;\n",
       "    }\n",
       "\n",
       "    .dataframe thead th {\n",
       "        text-align: right;\n",
       "    }\n",
       "</style>\n",
       "<table border=\"1\" class=\"dataframe\">\n",
       "  <thead>\n",
       "    <tr style=\"text-align: right;\">\n",
       "      <th></th>\n",
       "      <th>dollar_fx</th>\n",
       "      <th>tiie</th>\n",
       "    </tr>\n",
       "    <tr>\n",
       "      <th>date</th>\n",
       "      <th></th>\n",
       "      <th></th>\n",
       "    </tr>\n",
       "  </thead>\n",
       "  <tbody>\n",
       "    <tr>\n",
       "      <th>2018-01-01</th>\n",
       "      <td>19.4899</td>\n",
       "      <td>7.6311</td>\n",
       "    </tr>\n",
       "    <tr>\n",
       "      <th>2018-02-01</th>\n",
       "      <td>18.4004</td>\n",
       "      <td>7.6600</td>\n",
       "    </tr>\n",
       "    <tr>\n",
       "      <th>2018-03-01</th>\n",
       "      <td>18.8610</td>\n",
       "      <td>7.8294</td>\n",
       "    </tr>\n",
       "    <tr>\n",
       "      <th>2018-04-01</th>\n",
       "      <td>18.2967</td>\n",
       "      <td>7.8503</td>\n",
       "    </tr>\n",
       "    <tr>\n",
       "      <th>2018-05-01</th>\n",
       "      <td>19.0943</td>\n",
       "      <td>7.8508</td>\n",
       "    </tr>\n",
       "    <tr>\n",
       "      <th>...</th>\n",
       "      <td>...</td>\n",
       "      <td>...</td>\n",
       "    </tr>\n",
       "    <tr>\n",
       "      <th>2023-11-01</th>\n",
       "      <td>17.9305</td>\n",
       "      <td>11.5035</td>\n",
       "    </tr>\n",
       "    <tr>\n",
       "      <th>2023-12-01</th>\n",
       "      <td>17.2143</td>\n",
       "      <td>11.5033</td>\n",
       "    </tr>\n",
       "    <tr>\n",
       "      <th>2024-01-01</th>\n",
       "      <td>17.0297</td>\n",
       "      <td>11.5025</td>\n",
       "    </tr>\n",
       "    <tr>\n",
       "      <th>2024-02-01</th>\n",
       "      <td>17.1335</td>\n",
       "      <td>11.5012</td>\n",
       "    </tr>\n",
       "    <tr>\n",
       "      <th>2024-03-01</th>\n",
       "      <td>17.0217</td>\n",
       "      <td>11.4937</td>\n",
       "    </tr>\n",
       "  </tbody>\n",
       "</table>\n",
       "<p>75 rows × 2 columns</p>\n",
       "</div>"
      ],
      "text/plain": [
       "            dollar_fx     tiie\n",
       "date                          \n",
       "2018-01-01    19.4899   7.6311\n",
       "2018-02-01    18.4004   7.6600\n",
       "2018-03-01    18.8610   7.8294\n",
       "2018-04-01    18.2967   7.8503\n",
       "2018-05-01    19.0943   7.8508\n",
       "...               ...      ...\n",
       "2023-11-01    17.9305  11.5035\n",
       "2023-12-01    17.2143  11.5033\n",
       "2024-01-01    17.0297  11.5025\n",
       "2024-02-01    17.1335  11.5012\n",
       "2024-03-01    17.0217  11.4937\n",
       "\n",
       "[75 rows x 2 columns]"
      ]
     },
     "metadata": {},
     "output_type": "display_data"
    }
   ],
   "source": [
    "# Montly data for FX and TIIE\n",
    "# get the first day of the month\n",
    "df_banxico_monthly = df_banxico.resample('MS').first()\n",
    "df_banxico_monthly"
   ]
  },
  {
   "cell_type": "code",
   "execution_count": null,
   "metadata": {},
   "outputs": [
    {
     "data": {
      "text/html": [
       "<div>\n",
       "<style scoped>\n",
       "    .dataframe tbody tr th:only-of-type {\n",
       "        vertical-align: middle;\n",
       "    }\n",
       "\n",
       "    .dataframe tbody tr th {\n",
       "        vertical-align: top;\n",
       "    }\n",
       "\n",
       "    .dataframe thead th {\n",
       "        text-align: right;\n",
       "    }\n",
       "</style>\n",
       "<table border=\"1\" class=\"dataframe\">\n",
       "  <thead>\n",
       "    <tr style=\"text-align: right;\">\n",
       "      <th></th>\n",
       "      <th>dollar_fx</th>\n",
       "      <th>tiie</th>\n",
       "      <th>inpc</th>\n",
       "    </tr>\n",
       "    <tr>\n",
       "      <th>date</th>\n",
       "      <th></th>\n",
       "      <th></th>\n",
       "      <th></th>\n",
       "    </tr>\n",
       "  </thead>\n",
       "  <tbody>\n",
       "    <tr>\n",
       "      <th>2018-01-01</th>\n",
       "      <td>19.4899</td>\n",
       "      <td>7.6311</td>\n",
       "      <td>98.795000</td>\n",
       "    </tr>\n",
       "    <tr>\n",
       "      <th>2018-02-01</th>\n",
       "      <td>18.4004</td>\n",
       "      <td>7.6600</td>\n",
       "      <td>99.171374</td>\n",
       "    </tr>\n",
       "    <tr>\n",
       "      <th>2018-03-01</th>\n",
       "      <td>18.8610</td>\n",
       "      <td>7.8294</td>\n",
       "      <td>99.492157</td>\n",
       "    </tr>\n",
       "    <tr>\n",
       "      <th>2018-04-01</th>\n",
       "      <td>18.2967</td>\n",
       "      <td>7.8503</td>\n",
       "      <td>99.154847</td>\n",
       "    </tr>\n",
       "    <tr>\n",
       "      <th>2018-05-01</th>\n",
       "      <td>19.0943</td>\n",
       "      <td>7.8508</td>\n",
       "      <td>98.994080</td>\n",
       "    </tr>\n",
       "    <tr>\n",
       "      <th>...</th>\n",
       "      <td>...</td>\n",
       "      <td>...</td>\n",
       "      <td>...</td>\n",
       "    </tr>\n",
       "    <tr>\n",
       "      <th>2023-11-01</th>\n",
       "      <td>17.9305</td>\n",
       "      <td>11.5035</td>\n",
       "      <td>131.445000</td>\n",
       "    </tr>\n",
       "    <tr>\n",
       "      <th>2023-12-01</th>\n",
       "      <td>17.2143</td>\n",
       "      <td>11.5033</td>\n",
       "      <td>132.373000</td>\n",
       "    </tr>\n",
       "    <tr>\n",
       "      <th>2024-01-01</th>\n",
       "      <td>17.0297</td>\n",
       "      <td>11.5025</td>\n",
       "      <td>133.555000</td>\n",
       "    </tr>\n",
       "    <tr>\n",
       "      <th>2024-02-01</th>\n",
       "      <td>17.1335</td>\n",
       "      <td>11.5012</td>\n",
       "      <td>133.681000</td>\n",
       "    </tr>\n",
       "    <tr>\n",
       "      <th>2024-03-01</th>\n",
       "      <td>17.0217</td>\n",
       "      <td>11.4937</td>\n",
       "      <td>NaN</td>\n",
       "    </tr>\n",
       "  </tbody>\n",
       "</table>\n",
       "<p>75 rows × 3 columns</p>\n",
       "</div>"
      ],
      "text/plain": [
       "            dollar_fx     tiie        inpc\n",
       "date                                      \n",
       "2018-01-01    19.4899   7.6311   98.795000\n",
       "2018-02-01    18.4004   7.6600   99.171374\n",
       "2018-03-01    18.8610   7.8294   99.492157\n",
       "2018-04-01    18.2967   7.8503   99.154847\n",
       "2018-05-01    19.0943   7.8508   98.994080\n",
       "...               ...      ...         ...\n",
       "2023-11-01    17.9305  11.5035  131.445000\n",
       "2023-12-01    17.2143  11.5033  132.373000\n",
       "2024-01-01    17.0297  11.5025  133.555000\n",
       "2024-02-01    17.1335  11.5012  133.681000\n",
       "2024-03-01    17.0217  11.4937         NaN\n",
       "\n",
       "[75 rows x 3 columns]"
      ]
     },
     "metadata": {},
     "output_type": "display_data"
    }
   ],
   "source": [
    "# join with INPC\n",
    "df_monthly = df_banxico_monthly.join(df_inpc, how='left')\n",
    "df_monthly"
   ]
  },
  {
   "cell_type": "code",
   "execution_count": null,
   "metadata": {},
   "outputs": [
    {
     "data": {
      "text/plain": [
       "dollar_fx    0\n",
       "tiie         0\n",
       "inpc         1\n",
       "dtype: int64"
      ]
     },
     "metadata": {},
     "output_type": "display_data"
    }
   ],
   "source": [
    "# look nans\n",
    "df_monthly.isna().sum()"
   ]
  }
 ],
 "metadata": {
  "kernelspec": {
   "display_name": "arquitectura",
   "language": "python",
   "name": "python3"
  },
  "language_info": {
   "codemirror_mode": {
    "name": "ipython",
    "version": 3
   },
   "file_extension": ".py",
   "mimetype": "text/x-python",
   "name": "python",
   "nbconvert_exporter": "python",
   "pygments_lexer": "ipython3",
   "version": "3.11.8"
  }
 },
 "nbformat": 4,
 "nbformat_minor": 2
}
